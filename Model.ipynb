{
 "cells": [
  {
   "cell_type": "code",
   "execution_count": null,
   "metadata": {},
   "outputs": [],
   "source": [
    "# loading data from Aoyogi's work\n",
    "import os\n",
    "import numpy as np\n",
    "sscurves = []\n",
    "model_in = []\n",
    "modified = []\n",
    "random_par = []\n",
    "for filename in os.listdir(r'./ssresults'):\n",
    "    curve = np.load(r'./ssresults/' + filename)\n",
    "    sscurves.append(curve[1])\n",
    "    f = open(r'./polymer/' + filename[0:-8] + '.txt')\n",
    "    parameters = []\n",
    "    for line in f:\n",
    "        parameters.append(float(line))\n",
    "    modified.append(parameters)\n",
    "# Modify block copolymer parameters to random copolymer parameters\n",
    "# [length,{A},{B},num_A,num_B,max_A,max_B]\n",
    "for i in modified:\n",
    "    random_par.append([i[0],int(i[0]*i[1]),int(i[0]*(1-i[1]))])\n",
    "for i in range(len(random_par)):\n",
    "    if(modified[i][2]==0):\n",
    "        random_par[i].append(1)\n",
    "    else:\n",
    "        random_par[i].append(2)\n",
    "    random_par[i].append(1)\n",
    "    random_par[i].append(int((1-modified[i][2])*random_par[i][1]))\n",
    "    random_par[i].append(random_par[i][2])\n",
    "block = np.array(random_par).astype('float32')\n",
    "y = np.array(sscurves).astype('float32')"
   ]
  },
  {
   "cell_type": "code",
   "execution_count": null,
   "metadata": {},
   "outputs": [],
   "source": [
    "import random\n",
    "# Random copolymer Design Space\n",
    "# [length,{A},{B},num_A,num_B,max_A,max_B]\n",
    "sample = 1505\n",
    "random.seed(1126)\n",
    "random_copolymer = [\"\"]*sample\n",
    "design_space = [[]]*sample\n",
    "num_beads = 60\n",
    "fA = 0.1\n",
    "for i in range(sample):\n",
    "    design_space[i]=[num_beads,int(num_beads*fA),num_beads-int(num_beads*fA)]\n",
    "    fA+=0.015\n",
    "    if(i!=0 and (i+1)%50==0):\n",
    "        num_beads+=2\n",
    "        fA=0.1\n",
    "for i in range(sample):\n",
    "    polymer = \"\"\n",
    "    for j in range(design_space[i][1]):\n",
    "        polymer += \"A\"\n",
    "    for j in range(design_space[i][2]):\n",
    "        polymer += \"B\"\n",
    "    polymer = list(polymer)\n",
    "    random.shuffle(polymer)\n",
    "    random_copolymer[i] = \"\".join(polymer)"
   ]
  },
  {
   "cell_type": "code",
   "execution_count": null,
   "metadata": {},
   "outputs": [],
   "source": [
    "# Define other functions for calculate input parameters\n",
    "def countnum(pattern,monomer):\n",
    "    return pattern.count(monomer)\n",
    "\n",
    "def num_block(pattern,monomer):\n",
    "    cnt = 0\n",
    "    for i in range(1,len(pattern)):\n",
    "        if(pattern[i]!=monomer and pattern[i-1]==monomer):\n",
    "            cnt+=1\n",
    "    if(pattern[i]==monomer):\n",
    "            cnt+=1\n",
    "    return cnt\n",
    "\n",
    "def max_block(pattern,monomer):\n",
    "    max_block = -1\n",
    "    count = 0\n",
    "    for i in range(len(pattern)):\n",
    "        if(pattern[i]==monomer):\n",
    "            count+=1\n",
    "        else:\n",
    "            if(count>max_block):\n",
    "                max_block = count\n",
    "            count = 0\n",
    "    if(count>max_block):\n",
    "        max_block = count\n",
    "    return max_block"
   ]
  },
  {
   "cell_type": "code",
   "execution_count": null,
   "metadata": {},
   "outputs": [],
   "source": [
    "for i in range(sample):\n",
    "    design_space[i].append(num_block(random_copolymer[i],\"A\"))\n",
    "    design_space[i].append(num_block(random_copolymer[i],\"B\"))\n",
    "    design_space[i].append(max_block(random_copolymer[i],\"A\"))\n",
    "    design_space[i].append(max_block(random_copolymer[i],\"B\"))"
   ]
  },
  {
   "cell_type": "code",
   "execution_count": null,
   "metadata": {},
   "outputs": [],
   "source": [
    "# Visualization\n",
    "import umap\n",
    "import matplotlib.pyplot as plt\n",
    "%matplotlib inline\n",
    "trans = umap.UMAP(random_state=42)\n",
    "space = trans.fit_transform(design_space)\n",
    "blk = trans.transform(block)\n",
    "plt.scatter(space[:,0],space[:,1],s=3,c=\"r\",label=\"random\")\n",
    "plt.scatter(blk[:,0],blk[:,1],s=3,label=\"block\")\n",
    "plt.legend()\n",
    "plt.savefig(\"visualize.jpg\")\n",
    "plt.show()"
   ]
  },
  {
   "cell_type": "code",
   "execution_count": null,
   "metadata": {},
   "outputs": [],
   "source": [
    "from sklearn.gaussian_process import GaussianProcessRegressor\n",
    "from sklearn.gaussian_process.kernels import Matern, WhiteKernel,RationalQuadratic\n",
    "from modAL.models import ActiveLearner\n",
    "\n",
    "# Pretrain on block copolymer data\n",
    "gpr = GaussianProcessRegressor(kernel=Matern(length_scale=0.5,length_scale_bounds=(1e-1, 100.0),nu=1.5)+WhiteKernel(noise_level=0.5)+RationalQuadratic()).fit(block, y)"
   ]
  },
  {
   "cell_type": "code",
   "execution_count": null,
   "metadata": {},
   "outputs": [],
   "source": [
    "def GP_regression_std(regressor, X):\n",
    "    _, allstd = regressor.predict(X,return_std=True)\n",
    "    query_idx = np.argmax(allstd[:,:1])\n",
    "    return query_idx, X[query_idx]"
   ]
  },
  {
   "cell_type": "code",
   "execution_count": null,
   "metadata": {},
   "outputs": [],
   "source": [
    "regressor = ActiveLearner(estimator=gpr, query_strategy=GP_regression_std)\n",
    "# For Active Learning training process\n",
    "\"\"\"\n",
    "y_pred, y_std = regressor.predict(design_space, return_std=True)\n",
    "query_idx, query_instance = regressor.query(design_space)\n",
    "print(query_idx,design_space[query_idx])\n",
    "\"\"\"\n",
    "for i in range(1,41,1):\n",
    "    stress,std=gpr.predict(np.array(design_space[query_idx]).reshape(1,-1), return_std=True)\n",
    "    regressor.teach([np.load(f\"iter_{i}.npy\",allow_pickle=True)[0]],[np.load(f\"iter_{i}.npy\",allow_pickle=True)[1]])\n",
    "    query_idx, query_instance = regressor.query(design_space)"
   ]
  }
 ],
 "metadata": {
  "language_info": {
   "name": "python"
  }
 },
 "nbformat": 4,
 "nbformat_minor": 2
}
